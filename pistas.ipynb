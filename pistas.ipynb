{
 "cells": [
  {
   "cell_type": "markdown",
   "metadata": {},
   "source": [
    "# Estudo das Pistas no Parque do Xingu "
   ]
  },
  {
   "cell_type": "code",
   "execution_count": 1,
   "metadata": {},
   "outputs": [],
   "source": [
    "#Bibliotecas Usadas\n",
    "import requests\n",
    "import re\n",
    "import geopandas as gpd\n",
    "from bs4 import BeautifulSoup\n",
    "from ipyleaflet import Map, basemaps, basemap_to_tiles, TileLayer, GeoData, LegendControl\n",
    "import pandas as pd"
   ]
  },
  {
   "cell_type": "markdown",
   "metadata": {},
   "source": [
    "## Importa as coordenadas da Terra Indígena do Parque do Xingu"
   ]
  },
  {
   "cell_type": "code",
   "execution_count": 2,
   "metadata": {},
   "outputs": [],
   "source": [
    "# Desabilita a verificação de SSL pois o site da FUNAI não ter certificados válidos\n",
    "import ssl\n",
    "ssl._create_default_https_context = ssl._create_unverified_context"
   ]
  },
  {
   "cell_type": "code",
   "execution_count": 3,
   "metadata": {},
   "outputs": [],
   "source": [
    "#Importa o mapa do servidor da Funai\n",
    "reservas = gpd.read_file('https://geoserver.funai.gov.br/geoserver/Funai/ows?service=WFS&version=1.0.0&request=GetFeature&typeName=Funai:tis_poligonais&CQL_FILTER=dominio_uniao=%27t%27&outputFormat=SHAPE-ZIP')\n",
    "\n",
    "#Filtra apenas a terra do Parque do Xingu\n",
    "xingu = reservas[reservas['terrai_nom'] == 'Parque do Xingu']\n",
    "\n",
    "#Coloca todos os dados em WGS84\n",
    "xingu_wgs = xingu.to_crs(epsg=4326)"
   ]
  },
  {
   "cell_type": "code",
   "execution_count": 4,
   "metadata": {},
   "outputs": [],
   "source": [
    "x = float(xingu_wgs.representative_point().y)"
   ]
  },
  {
   "cell_type": "code",
   "execution_count": 5,
   "metadata": {},
   "outputs": [
    {
     "data": {
      "text/plain": [
       "-11.80442616"
      ]
     },
     "execution_count": 5,
     "metadata": {},
     "output_type": "execute_result"
    }
   ],
   "source": [
    "x"
   ]
  },
  {
   "cell_type": "markdown",
   "metadata": {},
   "source": [
    "## Prepara as pistas cadastradas no Parque do Xingu"
   ]
  },
  {
   "cell_type": "code",
   "execution_count": 6,
   "metadata": {},
   "outputs": [],
   "source": [
    "# Importa o banco de dados de aeródromos privados\n",
    "aerod_publicos = pd.read_csv('https://sistemas.anac.gov.br/dadosabertos/Aerodromos/Lista%20de%20aer%C3%B3dromos%20p%C3%BAblicos/AerodromosPublicos.csv',\n",
    "                             encoding='latin1',\n",
    "                             header=1,\n",
    "                             delimiter=';',\n",
    "                             usecols=['LATGEOPOINT', 'LONGEOPOINT'])\n",
    "\n",
    "# Importa o banco de dados de aeródromos privados\n",
    "aerod_privados = pd.read_csv('https://sistemas.anac.gov.br/dadosabertos/Aerodromos/Lista%20de%20aer%C3%B3dromos%20privados/Aerodromos%20Privados/AerodromosPrivados.csv',\n",
    "                             encoding='latin1',\n",
    "                             header=1,\n",
    "                             delimiter=';',\n",
    "                             usecols=['LATGEOPOINT', 'LONGEOPOINT'])\n",
    "\n",
    "# Concatena ambos e cria um GeoDataFrame\n",
    "aerod = pd.concat([aerod_publicos, aerod_privados], ignore_index=True)\n",
    "aerod_cad = gpd.GeoDataFrame(geometry=gpd.points_from_xy(aerod['LONGEOPOINT'], aerod['LATGEOPOINT']),crs=\"EPSG:4326\")"
   ]
  },
  {
   "cell_type": "code",
   "execution_count": 7,
   "metadata": {},
   "outputs": [],
   "source": [
    "pistas_pqxingu = gpd.sjoin(aerod_cad, xingu_wgs)"
   ]
  },
  {
   "cell_type": "markdown",
   "metadata": {},
   "source": [
    "## Prepara as pistas pedidas pelo IBAMA de acordo com a Resolução nº 623/2021"
   ]
  },
  {
   "cell_type": "markdown",
   "metadata": {},
   "source": [
    "Define uma função para ler as coordenadas das pistas da FUNAI e devolver como um GeoDataFrame"
   ]
  },
  {
   "cell_type": "code",
   "execution_count": 8,
   "metadata": {},
   "outputs": [],
   "source": [
    "def getlatlon(url):\n",
    "    \n",
    "    # Baixa e prepara o html\n",
    "    resp = requests.get(url)\n",
    "    soup = BeautifulSoup(resp.content, 'html.parser')\n",
    "    \n",
    "    # Regex\n",
    "    prog1 = re.compile(\"\"\"(N|S)\\s?(\\d+)\\s?°\\s?(\\d+)\\s?\\\\'\\s?(\\d+\\.?\\,?\\d*?)\\\"\"\"\")\n",
    "    lat = prog1.findall(soup.text)\n",
    "\n",
    "    prog2 = re.compile(\"\"\"(W|E)\\s?(\\d+)\\s?°\\s?(\\d+)\\s?\\\\'\\s?(\\d+\\.?\\,?\\d*?)\\\"\"\"\")\n",
    "    lon = prog2.findall(soup.text)\n",
    "    \n",
    "    # Check de sanidade\n",
    "    if len(lat) != len(lon):\n",
    "        print(\"Erro de Leitura\")\n",
    "\n",
    "    # Constroi a lista de Lat/Lon\n",
    "    llat = []\n",
    "    llon = []\n",
    "    for i in range(len(lat)):\n",
    "        aux = float(lat[i][1]) + float(lat[i][2])/60.0 + float(lat[i][3])/3600\n",
    "        if(lat[i][0] == 'S'): aux =-aux;\n",
    "        llat.append(aux)\n",
    "        aux = float(lon[i][1]) + float(lon[i][2])/60.0 + float(lon[i][3])/3600\n",
    "        if(lon[i][0] == 'W'): aux =-aux;\n",
    "        llon.append(aux)\n",
    "    \n",
    "    #Constroi o GeoPandasDataFrame\n",
    "    gdf = gpd.GeoDataFrame(geometry=gpd.points_from_xy(llon,llat),crs=\"EPSG:4326\")\n",
    "    \n",
    "    return gdf"
   ]
  },
  {
   "cell_type": "markdown",
   "metadata": {},
   "source": [
    "Lê o oficio com as pistas do parque xingu.\n",
    "\n",
    "TBD - Generalizar para ler outros oficios (precisa ajustar o Regex)"
   ]
  },
  {
   "cell_type": "code",
   "execution_count": 9,
   "metadata": {},
   "outputs": [],
   "source": [
    "url = 'https://sei.anac.gov.br/sei/modulos/pesquisa/md_pesq_documento_consulta_externa.php?9LibXMqGnN7gSpLFOOgUQFziRouBJ5VnVL5b7-UrE5Q9q65QFzAAEPklK1frAghRMJU7Kj2s9FOJ1vzHUvSiNBMacl-eLe3__9FGUFieg85NA5snk8dZO-H7PYyMb6AG'\n",
    "pistas_623 = getlatlon(url)"
   ]
  },
  {
   "cell_type": "markdown",
   "metadata": {},
   "source": [
    "## Pega as Pistas do MapBiomas"
   ]
  },
  {
   "cell_type": "code",
   "execution_count": 58,
   "metadata": {},
   "outputs": [],
   "source": [
    "# Baixa o banco de dados deles\n",
    "pistas_mb = gpd.read_file('https://mapbiomas-br-site.s3.amazonaws.com/downloads/Pistas_de_Pouso_02_Fev_2023_v1__3_.zip')\n",
    "\n",
    "# Filtra as pistas no Parque do Xingu (eles marcam)\n",
    "pistas_mb_ti = pistas_mb.dropna(subset=['TI'])\n",
    "pistas_mb_xingu = pistas_mb_ti[pistas_mb_ti['TI'].str.contains('Xingu')]"
   ]
  },
  {
   "cell_type": "markdown",
   "metadata": {},
   "source": [
    "## Coloca tudo em um gráfico"
   ]
  },
  {
   "cell_type": "code",
   "execution_count": 84,
   "metadata": {},
   "outputs": [],
   "source": [
    "m = Map(default_tiles=provider, center=(float(xingu_wgs.representative_point().y),float(xingu_wgs.representative_point().x)), zoom=8)\n",
    "m = Map(center=(float(xingu_wgs.representative_point().y),float(xingu_wgs.representative_point().x)), zoom=8)\n",
    "m.layout.height = '800px'\n",
    "legend = LegendControl({}, name=\"Legenda\", position=\"topright\")\n",
    "m.add_control(legend)"
   ]
  },
  {
   "cell_type": "code",
   "execution_count": 79,
   "metadata": {},
   "outputs": [],
   "source": [
    "#Adiciona os limites da terra indígena\n",
    "geo_xingu = GeoData(geo_dataframe = xingu_wgs,\n",
    "                    style={'color': 'black', 'fillOpacity':0.05},\n",
    "                    name = 'Parque do Xingu')\n",
    "legend.add_legend_element(\"Parque Xingu\",\"black\")  # Add a legend element\n",
    "m.add_layer(geo_xingu)"
   ]
  },
  {
   "cell_type": "code",
   "execution_count": 80,
   "metadata": {},
   "outputs": [],
   "source": [
    "# Adiciona as pistas do MapBiomas\n",
    "geo_pistas = GeoData(geo_dataframe = pistas_mb_xingu,\n",
    "                     style={'color': 'red', 'radius':10, 'fillColor': 'ff3333', 'fillopacity':0.9},\n",
    "                    point_style={'color': 'red'})\n",
    "legend.add_legend_element(\"Pistas MapBiomas\",\"red\")  # Add a legend element\n",
    "m.add_layer(geo_pistas)"
   ]
  },
  {
   "cell_type": "code",
   "execution_count": 81,
   "metadata": {},
   "outputs": [],
   "source": [
    "## Adiciona as pistas do Cadastrads\n",
    "geo_pistas = GeoData(geo_dataframe = pistas_pqxingu,\n",
    "                     style={'color': 'green', 'radius':6, 'fillColor': '52ff33', 'fillopacity':0.9},\n",
    "                    point_style={'color': 'green'})\n",
    "legend.add_legend_element(\"Aeródromos Cadastrados\",\"green\")  # Add a legend element\n",
    "m.add_layer(geo_pistas)"
   ]
  },
  {
   "cell_type": "code",
   "execution_count": 82,
   "metadata": {},
   "outputs": [],
   "source": [
    "## Adiciona as pistas da Resolução 623\n",
    "geo_pistas = GeoData(geo_dataframe = pistas_623 ,\n",
    "                     style={'color': 'blue', 'radius':6, 'fillColor': '3349ff', 'fillopacity':0.9},\n",
    "                    point_style={'color': 'green'})\n",
    "legend.add_legend_element(\"Resolução 623\",\"blue\")  # Add a legend element\n",
    "m.add_layer(geo_pistas)"
   ]
  },
  {
   "cell_type": "code",
   "execution_count": 85,
   "metadata": {},
   "outputs": [
    {
     "data": {
      "application/vnd.jupyter.widget-view+json": {
       "model_id": "a876da9c59534a31b9aa3e0ce2bf8b01",
       "version_major": 2,
       "version_minor": 0
      },
      "text/plain": [
       "Map(center=[-11.80442616, -53.61171957945864], controls=(ZoomControl(options=['position', 'zoom_in_text', 'zoo…"
      ]
     },
     "execution_count": 85,
     "metadata": {},
     "output_type": "execute_result"
    }
   ],
   "source": [
    "#Finalmente, mostra o mapa\n",
    "m"
   ]
  },
  {
   "cell_type": "code",
   "execution_count": null,
   "metadata": {},
   "outputs": [],
   "source": []
  }
 ],
 "metadata": {
  "kernelspec": {
   "display_name": "Python 3",
   "language": "python",
   "name": "python3"
  },
  "language_info": {
   "codemirror_mode": {
    "name": "ipython",
    "version": 3
   },
   "file_extension": ".py",
   "mimetype": "text/x-python",
   "name": "python",
   "nbconvert_exporter": "python",
   "pygments_lexer": "ipython3",
   "version": "3.10.6"
  }
 },
 "nbformat": 4,
 "nbformat_minor": 2
}
